{
 "cells": [
  {
   "cell_type": "code",
   "execution_count": 1,
   "metadata": {
    "collapsed": true,
    "pycharm": {
     "is_executing": false
    }
   },
   "outputs": [],
   "source": [
    "from sklearn.preprocessing import StandardScaler\n",
    "from sklearn.metrics import log_loss\n",
    "from sklearn.metrics import accuracy_score\n",
    "from sklearn.metrics import classification_report\n",
    "from sklearn.metrics import confusion_matrix\n",
    "from sklearn.model_selection import cross_val_score\n",
    "from sklearn import svm\n",
    "import pandas as pd\n",
    "import numpy as np\n",
    "from sklearn.model_selection import train_test_split\n",
    "from sklearn.model_selection import cross_val_score\n",
    "import matplotlib.pyplot as plt\n",
    "from sklearn.preprocessing import LabelEncoder\n",
    "\n",
    "\n",
    "def plot_confusion_matrix(y_true, y_pred, label,\n",
    "                          cmap=plt.cm.Blues):\n",
    "    # Compute confusion matrix\n",
    "    cm = confusion_matrix(y_true, y_pred)\n",
    "    # Only use the labels that appear in the data\n",
    "\n",
    "    print(cm)\n",
    "\n",
    "    fig, ax = plt.subplots(figsize=(10, 10))\n",
    "    im = ax.imshow(cm, interpolation='nearest', cmap=cmap)\n",
    "    ax.figure.colorbar(im, ax=ax)\n",
    "    # We want to show all ticks...\n",
    "    ax.set(xticks=np.arange(cm.shape[1]),\n",
    "           yticks=np.arange(cm.shape[0]),\n",
    "           # ... and label them with the respective list entries\n",
    "           xticklabels=label, yticklabels=label,\n",
    "           ylabel='True label',\n",
    "           xlabel='Predicted label')\n",
    "\n",
    "    # Rotate the tick labels and set their alignment.\n",
    "    plt.setp(ax.get_xticklabels(), rotation=45, ha=\"right\",\n",
    "             rotation_mode=\"anchor\")\n",
    "\n",
    "    # Loop over data dimensions and create text annotations.\n",
    "    fmt = '.2f'\n",
    "    thresh = cm.max() / 2.\n",
    "    for i in range(cm.shape[0]):\n",
    "        for j in range(cm.shape[1]):\n",
    "            ax.text(j, i, format(cm[i, j], fmt),\n",
    "                    ha=\"center\", va=\"center\",\n",
    "                    color=\"white\" if cm[i, j] > thresh else \"black\")\n",
    "    fig.tight_layout()\n",
    "    return ax\n",
    "\n",
    "\n",
    "import pandas as pd\n",
    "\n",
    "\n"
   ]
  },
  {
   "cell_type": "code",
   "execution_count": 2,
   "metadata": {
    "pycharm": {
     "is_executing": false,
     "name": "#%%\n"
    }
   },
   "outputs": [],
   "source": [
    "c = [1, 10, 100, 1000]\n",
    "gamma = [1e-3, 1e-4]\n",
    "features = ['Date', 'Payrolls_3mo_vs_12mo', 'Effective_Fed_Funds_12_chg', 'CPI_All_Items_3_mo_annualised',\n",
    "            '10Y_Treasury_Rate_12_chg', '3M_10Y_Treasury_Spread', 'S&P_500_Index_12_chg']\n",
    "cv_predictions_by_output = {}\n",
    "df = pd.read_csv('/Users/sebin/Desktop/companyandngo/Data/final_features.csv')[::-1]\n",
    "df_features = df[features]\n",
    "df_features.join(pd.get_dummies(df['Recession']))\n",
    "\n",
    "X_train, X_test, y_train, y_test = train_test_split(df_features, df['Recession_in_12mo'], test_size=0.30)\n",
    "\n",
    "# dictionary for saving f1-score\n",
    "svm_ac = {}\n",
    "key = {'Payrolls_3mo_vs_12mo': 'S&P_500_Index_12_chg'}\n",
    "\n"
   ]
  },
  {
   "cell_type": "code",
   "execution_count": 3,
   "metadata": {
    "pycharm": {
     "is_executing": false,
     "name": "#%%\n"
    }
   },
   "outputs": [
    {
     "name": "stdout",
     "output_type": "stream",
     "text": [
      "\n",
      "Parameter            Average accuracy         \n",
      "(1, 0.001)\t      0.18755225208055398\n",
      "\n",
      "Parameter            Average accuracy         \n",
      "(1, 0.0001)\t      0.12704466044088683\n",
      "\n",
      "Parameter            Average accuracy         \n",
      "(10, 0.001)\t      0.45752874658535037\n",
      "\n",
      "Parameter            Average accuracy         \n",
      "(10, 0.0001)\t      0.27214852931834066\n",
      "\n",
      "Parameter            Average accuracy         \n",
      "(100, 0.001)\t       0.5191226732736167\n",
      "\n",
      "Parameter            Average accuracy         \n",
      "(100, 0.0001)\t       0.4556768947334985\n",
      "\n",
      "Parameter            Average accuracy         \n",
      "(1000, 0.001)\t       0.5320182961692395\n",
      "\n",
      "Parameter            Average accuracy         \n",
      "(1000, 0.0001)\t       0.5172708214217648\n",
      "Model Accuracy is: 0.51931330472103\n",
      "\n",
      "Performance table\n",
      "\n",
      "              precision    recall  f1-score   support\n",
      "\n",
      "           0       0.88      0.48      0.62       192\n",
      "           1       0.22      0.68      0.33        41\n",
      "\n",
      "    accuracy                           0.52       233\n",
      "   macro avg       0.55      0.58      0.48       233\n",
      "weighted avg       0.76      0.52      0.57       233\n",
      "\n",
      "\n",
      "Confusion matrix\n",
      "[[93 99]\n",
      " [13 28]]\n",
      "\n",
      "The diagonal elements represent the total number of predicted value is equal to the true label and off-diagonal elements are mislabelled by the classifier\n"
     ]
    },
    {
     "data": {
      "image/png": "[encoded data removed]",
      "text/plain": [
       "<Figure size 720x720 with 2 Axes>"
      ]
     },
     "metadata": {
      "needs_background": "light"
     },
     "output_type": "display_data"
    }
   ],
   "source": [
    "\n",
    "for x, y in [(x, y) for x in c for y in gamma]:\n",
    "    k = x, y\n",
    "    # initalize the'model' and passing the SVM Classifier with respect to C and gamma value\n",
    "    model = svm.SVC(C=x, kernel='rbf', gamma=y, probability=True,\n",
    "                    tol=1e-3, random_state=123,\n",
    "                    class_weight='balanced')\n",
    "    scaler = StandardScaler()\n",
    "    scaler.fit(X_train.loc[:, key])\n",
    "    training_x_scaled = scaler.transform(X_train.loc[:, key])\n",
    "    accuracy = cross_val_score(model, training_x_scaled, y_train, cv=10, scoring='accuracy')\n",
    "    svm_ac[k] = np.mean(accuracy)\n",
    "    print(\"\\n{:20} {:25}\".format('Parameter', 'Average accuracy'))\n",
    "    print('{}\\t{:25}'.format(k, np.mean(accuracy)))"
   ]
  },
  {
   "cell_type": "code",
   "execution_count": null,
   "metadata": {
    "pycharm": {
     "name": "#%%\n"
    }
   },
   "outputs": [],
   "source": [
    "acc_score = max(svm_ac, key=svm_ac.get)\n",
    "svc_model = svm.SVC(C=acc_score[0], kernel='rbf', gamma=acc_score[1], probability=True,\n",
    "                    tol=1e-3, random_state=123,\n",
    "                    class_weight='balanced')\n",
    "scaler = StandardScaler()\n",
    "scaler.fit(X_test.loc[:, key])\n",
    "testing_scaled = scaler.transform(X_test.loc[:, key])\n",
    "# fitting the model with training data\n",
    "svc_model.fit(training_x_scaled, y_train)\n",
    "# predicting the model with the test data\n",
    "y_predict = svc_model.predict(testing_scaled)\n",
    "\n",
    "# evaluating the accuracy with the ground truth and predicted value\n",
    "model_acc = accuracy_score(y_test, y_predict)\n",
    "\n",
    "print(\"Model Accuracy is: {}\".format(model_acc))\n",
    "predicted_probs = pd.DataFrame(svc_model.predict_proba(testing_scaled))\n",
    "# classification_report((y_true, y_pred)\n",
    "print(\"\\nPerformance table\")\n",
    "print(f\"\\n{classification_report(y_test, y_predict)}\")\n",
    "# confusion matrix\n",
    "print(\"\\nConfusion matrix\")\n",
    "plot_confusion_matrix(y_test, y_predict, features)\n",
    "print(\n",
    "    \"\\nThe diagonal elements represent the total number of predicted value is equal to the true label and off-diagonal elements are mislabelled by the classifier\")\n",
    "\n",
    "\n"
   ]
  }
 ],
 "metadata": {
  "kernelspec": {
   "display_name": "Python 3",
   "language": "python",
   "name": "python3"
  },
  "language_info": {
   "codemirror_mode": {
    "name": "ipython",
    "version": 3
   },
   "file_extension": ".py",
   "mimetype": "text/x-python",
   "name": "python",
   "nbconvert_exporter": "python",
   "pygments_lexer": "ipython3",
   "version": "3.6.7"
  },
  "pycharm": {
   "stem_cell": {
    "cell_type": "raw",
    "metadata": {
     "collapsed": false
    },
    "source": []
   }
  }
 },
 "nbformat": 4,
 "nbformat_minor": 1
}
